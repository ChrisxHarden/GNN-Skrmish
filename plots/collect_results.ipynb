{
 "cells": [
  {
   "cell_type": "code",
   "execution_count": 1,
   "metadata": {},
   "outputs": [],
   "source": [
    "import pandas as pd\n",
    "import numpy as np\n",
    "import csv\n",
    "import os\n",
    "\n",
    "osl = os.listdir\n",
    "ospj = os.path.join"
   ]
  },
  {
   "cell_type": "code",
   "execution_count": 16,
   "metadata": {},
   "outputs": [],
   "source": [
    "def pretty_print(d, indent):\n",
    "    \"\"\"pretty prints a dictionary\"\"\"\n",
    "    s = \"\"\n",
    "    for k in d:\n",
    "        s += \"\\t\"*indent + str(k) + \":\"\n",
    "        if type(d[k]) == dict: s += \"\\n\" + pretty_print(d[k], indent + 1)\n",
    "        else: s += \" \" + str(d[k]) + \"\\n\"\n",
    "    return s\n",
    "            "
   ]
  },
  {
   "cell_type": "code",
   "execution_count": 18,
   "metadata": {},
   "outputs": [
    {
     "name": "stdout",
     "output_type": "stream",
     "text": [
      "{'avg': 51.225, 'std': 9.38524773247888, 'med': 49.0, 'all_results': [48.5, 49.0, 67.0, 40.5, 58.4, 43.1, 46.0, 44.0, 66.0, 39.1, 49.0, 39.1, 39.1, 58.2, 51.2, 62.0, 45.5, 64.0, 50.8, 64.0]}\n",
      "{'avg': 49.845, 'std': 7.479603933364386, 'med': 49.0, 'all_results': [45.0, 38.2, 64.0, 60.4, 61.8, 44.3, 45.3, 49.0, 38.4, 54.0, 49.4, 40.9, 48.2, 46.4, 49.0, 55.3, 61.6, 44.1, 52.6, 49.0]}\n"
     ]
    }
   ],
   "source": [
    "runs_dir = \"/home/vchad/ray_results/\"\n",
    "runs = osl(runs_dir)\n",
    "experiments = [\"baseline_SEED\", \"GCN_5hp_localemb_NOOPT_SEED\"]\n",
    "results = {}\n",
    "for experiment in experiments:\n",
    "    experiment_results = []\n",
    "    for run in runs:\n",
    "        if experiment not in run: continue\n",
    "        data = pd.read_csv(ospj(runs_dir, run, \"progress.csv\"))\n",
    "        experiment_results.append(data[\"evaluation/episode_reward_mean\"].max())\n",
    "    results[experiment] = {\n",
    "        \"avg\": np.mean(experiment_results),\n",
    "        \"std\": np.std(experiment_results),\n",
    "        \"med\": np.median(experiment_results),\n",
    "        \"all_results\": experiment_results,\n",
    "    }\n",
    "for exp in results:\n",
    "    print(results[exp])"
   ]
  },
  {
   "cell_type": "code",
   "execution_count": 19,
   "metadata": {},
   "outputs": [
    {
     "name": "stdout",
     "output_type": "stream",
     "text": [
      "baseline_SEED:\n",
      "\tavg: 51.225\n",
      "\tstd: 9.38524773247888\n",
      "\tmed: 49.0\n",
      "\tall_results: [48.5, 49.0, 67.0, 40.5, 58.4, 43.1, 46.0, 44.0, 66.0, 39.1, 49.0, 39.1, 39.1, 58.2, 51.2, 62.0, 45.5, 64.0, 50.8, 64.0]\n",
      "GCN_5hp_localemb_NOOPT_SEED:\n",
      "\tavg: 49.845\n",
      "\tstd: 7.479603933364386\n",
      "\tmed: 49.0\n",
      "\tall_results: [45.0, 38.2, 64.0, 60.4, 61.8, 44.3, 45.3, 49.0, 38.4, 54.0, 49.4, 40.9, 48.2, 46.4, 49.0, 55.3, 61.6, 44.1, 52.6, 49.0]\n",
      "\n"
     ]
    }
   ],
   "source": [
    "print(pretty_print(results, 0))"
   ]
  }
 ],
 "metadata": {
  "kernelspec": {
   "display_name": "Python 3 (ipykernel)",
   "language": "python",
   "name": "python3"
  },
  "language_info": {
   "codemirror_mode": {
    "name": "ipython",
    "version": 3
   },
   "file_extension": ".py",
   "mimetype": "text/x-python",
   "name": "python",
   "nbconvert_exporter": "python",
   "pygments_lexer": "ipython3",
   "version": "3.9.13"
  },
  "vscode": {
   "interpreter": {
    "hash": "25a19fbe0a9132dfb9279d48d161753c6352f8f9478c2e74383d340069b907c3"
   }
  }
 },
 "nbformat": 4,
 "nbformat_minor": 2
}
