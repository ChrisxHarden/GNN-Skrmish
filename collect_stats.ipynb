{
 "cells": [
  {
   "cell_type": "code",
   "execution_count": 122,
   "metadata": {},
   "outputs": [],
   "source": [
    "import os\n",
    "import numpy as np\n",
    "import pandas as pd\n",
    "from scipy.stats import ttest_ind, mannwhitneyu\n",
    "\n",
    "osl = os.listdir\n",
    "ospj = os.path.join"
   ]
  },
  {
   "cell_type": "markdown",
   "metadata": {},
   "source": [
    "### get relevant runs data given filters of interest"
   ]
  },
  {
   "cell_type": "code",
   "execution_count": 123,
   "metadata": {},
   "outputs": [],
   "source": [
    "import re\n",
    "\n",
    "def natural_sort(l): \n",
    "    convert = lambda text: int(text) if text.isdigit() else text.lower() \n",
    "    alphanum_key = lambda key: [convert(c) for c in re.split('([0-9]+)', key)] \n",
    "    return sorted(l, key=alphanum_key)"
   ]
  },
  {
   "cell_type": "code",
   "execution_count": 124,
   "metadata": {},
   "outputs": [],
   "source": [
    "\"\"\"\n",
    "runs_dir = \"/home/derposoft/ray_results\"\n",
    "runs_filters = [\n",
    "    \"fcscout_baseline200h_1r2b_SEED\",\n",
    "    \"gnnscout_200h2.2l_1r2b_SEED\",\n",
    "    \"gatscout_200h2.2l_1r2b_SEED\"\n",
    "]\n",
    "runs_filters = [\n",
    "    \"fcskirmish_5hp_baseline100_50_PAPER_SEED\",\n",
    "    \"gcnskirmish_5hp_baseline100_50_3.4_PAPER_SEED\",\n",
    "    \"gatLNskirmish_5hp_GLOBALbaseline100_50_3.4_PAPER_SEED\",\n",
    "    \"gcnLNskirmish_5hp_baseline100_50_3.4_PAPER_SEED\",\n",
    "]\n",
    "runs_filters = [\n",
    "    \"fcskirmish_5hp_baseline100_50_100ksteps_SEED\",\n",
    "    \"gcnskirmish_5hp_baseline100_50_2.4_PAPER_SEED\",\n",
    "]\n",
    "runs_dirs = [\n",
    "    \"/home/derposoft/Documents/tb_logs/40k_runs/fcskirmish_100_50\",\n",
    "    \"/home/derposoft/Documents/tb_logs/40k_runs/gcnskirmish_100_50_3.4\",\n",
    "]\n",
    "runs_filters = [\n",
    "    \"fcskirmish_5hp_baseline100_50_PAPER_SEED\",\n",
    "    \"gcnskirmish_5hp_baseline100_50_3.4_PAPER_SEED\",\n",
    "]\n",
    "\"\"\"\n",
    "runs_dirs = [\n",
    "    \"/home/derposoft/Documents/tb_logs/seeded_runs/\"\n",
    "]\n",
    "runs_filters = [\n",
    "    \"baseline_SEED\",\n",
    "    \"hybridGAT_5hp_globalemb_NOOPT_SEED\",\n",
    "    \"hybridGAT_5hp_hybridemb_NOOPT_SEED\",\n",
    "    \"hybridGAT_5hp_localemb_NOOPT_SEED\",\n",
    "    \"hybridGCN_5hp_globalemb_NOOPT_SEED\",\n",
    "    \"hybridGCN_5hp_hybridemb_NOOPT_SEED\",\n",
    "    \"hybridGCN_5hp_localemb_NOOPT_SEED\",\n",
    "    \"hybridGT_5hp_globalemb_NOOPT_SEED\",\n",
    "    \"hybridGT_5hp_hybridemb_NOOPT_SEED\",\n",
    "    \"hybridGT_5hp_localemb_NOOPT_SEED\",\n",
    "]\n",
    "runs = sum(([ospj(runs_dir, x) for x in osl(runs_dir)] for runs_dir in runs_dirs), [])\n",
    "tot_steps_len = 200\n",
    "runs = natural_sort(runs)"
   ]
  },
  {
   "cell_type": "code",
   "execution_count": 125,
   "metadata": {},
   "outputs": [],
   "source": [
    "all_filters_runs = [\n",
    "    [run for run in runs if runs_filter in run]\n",
    "    for runs_filter in runs_filters\n",
    "]"
   ]
  },
  {
   "cell_type": "code",
   "execution_count": 127,
   "metadata": {},
   "outputs": [],
   "source": [
    "run_data_file = \"progress.csv\"\n",
    "run_data_col = \"episode_reward_mean\"\n",
    "run_data_col = \"evaluation/episode_reward_mean\"\n",
    "run_step_col = \"timesteps_total\"\n",
    "all_runs_data = []\n",
    "for filter_runs in all_filters_runs:\n",
    "    curr_run_data = []\n",
    "    #for run in filter_runs:\n",
    "    #    datafile = pd.read_csv(ospj(runs_dir, run, run_data_file))\n",
    "    #    curr_run_data.append(datafile[run_data_col])\n",
    "    #for run in runs:\n",
    "    for run in filter_runs:\n",
    "        datafile = pd.read_csv(ospj(run, run_data_file))\n",
    "        curr_run_data.append(datafile[run_data_col])\n",
    "    all_runs_data.append(curr_run_data)\n",
    "#runs_steps = pd.read_csv(ospj(runs_dir, all_filters_runs[0][0], run_data_file))[run_step_col]\n",
    "runs_steps = pd.read_csv(ospj(runs[0], run_data_file))[run_step_col]"
   ]
  },
  {
   "cell_type": "markdown",
   "metadata": {},
   "source": [
    "### given data, run \"map\" on data to get values suitable for analysis"
   ]
  },
  {
   "cell_type": "code",
   "execution_count": 128,
   "metadata": {},
   "outputs": [],
   "source": [
    "# finds the first training step when reward exceeds a given value ge\n",
    "def first_ep_to_val(runs, steps, ge=30):\n",
    "    first_eps = []\n",
    "    for run in runs:\n",
    "        found = False\n",
    "        for step, val in zip(steps, run):\n",
    "            if val >= ge:\n",
    "                first_eps.append(step)\n",
    "                found = True\n",
    "                break\n",
    "        if not found:\n",
    "            first_eps.append(-1)\n",
    "    return first_eps\n",
    "\n",
    "# finds max avg reward\n",
    "def max_avg_reward(runs, steps):\n",
    "    max_vals = []\n",
    "    for run in runs:\n",
    "        if len(run) < tot_steps_len: continue\n",
    "        max_vals.append(max(run))\n",
    "    return max_vals\n",
    "\n",
    "# returns last reward\n",
    "def last_ep_reward(runs, steps):\n",
    "    last_vals = []\n",
    "    for run in runs:\n",
    "        if len(run) < tot_steps_len: continue\n",
    "        last_vals.append(run.tolist()[-1])\n",
    "    return last_vals"
   ]
  },
  {
   "cell_type": "code",
   "execution_count": 129,
   "metadata": {},
   "outputs": [],
   "source": [
    "first_ep_to_30 = [\n",
    "    first_ep_to_val(filter_runs_data, runs_steps)\n",
    "    for filter_runs_data in all_runs_data\n",
    "]\n",
    "max_reward = [\n",
    "    max_avg_reward(filter_runs_data, runs_steps)\n",
    "    for filter_runs_data in all_runs_data\n",
    "]\n",
    "last_reward = [\n",
    "    last_ep_reward(filter_runs_data, runs_steps)\n",
    "    for filter_runs_data in all_runs_data\n",
    "]"
   ]
  },
  {
   "cell_type": "markdown",
   "metadata": {},
   "source": [
    "### given \"map\" values, run \"reduce\" to aggregate values and show significance"
   ]
  },
  {
   "cell_type": "code",
   "execution_count": 133,
   "metadata": {},
   "outputs": [],
   "source": [
    "# pretty print a dictionary\n",
    "def pretty_print(d, tabs=0, tabsize=4):\n",
    "    for k in d:\n",
    "        v = d[k]\n",
    "        nspaces = \" \" * tabsize * tabs\n",
    "        if type(v) == dict:\n",
    "            print(f\"{nspaces}{k}:\")\n",
    "            pretty_print(v, tabs+1, tabsize)\n",
    "        else:\n",
    "            print(f\"{nspaces}{k}: {v}\")\n",
    "\n",
    "# get stats for mapped values for a given experiment\n",
    "def get_stats(all_runs_vals, firstn=-1):\n",
    "    stats = {}\n",
    "    #baselines = all_runs_vals[0]\n",
    "    baselines = all_runs_vals[0]\n",
    "    for filter, vals in zip(runs_filters, all_runs_vals):\n",
    "        if firstn > 0: vals = vals[:firstn]\n",
    "        mu = np.mean(vals)\n",
    "        sigma = np.std(vals)\n",
    "        ci95z = 1.96\n",
    "        ttest_results = ttest_ind(baselines, vals, alternative=\"less\", equal_var=False)\n",
    "        stats[filter] = {\n",
    "            \"str\": f\"{mu}+/-{ci95z*sigma} -- p={ttest_results.pvalue}\",\n",
    "            #\"mean\": f\"{mu}+/-{ci95z*sigma}\",\n",
    "            #\"median\": np.median(vals),\n",
    "            #\"std\": sigma,\n",
    "            #\"ci\": [mu-ci95z*sigma, mu+ci95z*sigma],\n",
    "            #\"n\": len(vals),\n",
    "            #\"mannwu\": mannwhitneyu(baselines, vals, alternative=\"less\"),\n",
    "            #\"ttest_less\": ttest_ind(baselines, vals, alternative=\"less\", equal_var=False),\n",
    "            #\"ttest_more\": ttest_ind(baselines, vals, alternative=\"greater\", equal_var=False),\n",
    "        }\n",
    "    return stats"
   ]
  },
  {
   "cell_type": "code",
   "execution_count": 134,
   "metadata": {},
   "outputs": [],
   "source": [
    "firstn = 35\n",
    "first_ep_to_30_stats = get_stats(first_ep_to_30, firstn=firstn)\n",
    "max_reward_stats = get_stats(max_reward, firstn=firstn)\n",
    "last_reward_stats = get_stats(last_reward, firstn=firstn)"
   ]
  },
  {
   "cell_type": "code",
   "execution_count": 135,
   "metadata": {},
   "outputs": [
    {
     "name": "stdout",
     "output_type": "stream",
     "text": [
      "max reward stats:\n",
      "baseline_SEED:\n",
      "    str: 45.95+/-12.854746329663607 -- p=0.5\n",
      "hybridGAT_5hp_globalemb_NOOPT_SEED:\n",
      "    str: 53.54+/-13.362600968374386 -- p=0.013528438388306441\n",
      "hybridGAT_5hp_hybridemb_NOOPT_SEED:\n",
      "    str: 46.81+/-17.581200000000003 -- p=0.4096271589408053\n",
      "hybridGAT_5hp_localemb_NOOPT_SEED:\n",
      "    str: 51.720000000000006+/-15.526317868702805 -- p=0.05510325640708142\n",
      "hybridGCN_5hp_globalemb_NOOPT_SEED:\n",
      "    str: 49.11+/-18.884770367679877 -- p=0.21402645459676656\n",
      "hybridGCN_5hp_hybridemb_NOOPT_SEED:\n",
      "    str: 49.550000000000004+/-11.390365929152583 -- p=0.1555326478299324\n",
      "hybridGCN_5hp_localemb_NOOPT_SEED:\n",
      "    str: 51.18+/-12.289309409401326 -- p=0.05045861579400422\n",
      "hybridGT_5hp_globalemb_NOOPT_SEED:\n",
      "    str: 45.720000000000006+/-9.104954220642737 -- p=0.533682540281827\n",
      "hybridGT_5hp_hybridemb_NOOPT_SEED:\n",
      "    str: 50.730000000000004+/-13.550689316783847 -- p=0.07488542649303868\n",
      "hybridGT_5hp_localemb_NOOPT_SEED:\n",
      "    str: 51.58+/-15.735712025834738 -- p=0.060661192344162604\n",
      "\n",
      "first ep to 30 stats:\n",
      "baseline_SEED:\n",
      "    str: 8900.0+/-2683.124745515944 -- p=0.5\n",
      "hybridGAT_5hp_globalemb_NOOPT_SEED:\n",
      "    str: 11700.0+/-7477.342201611479 -- p=0.03094280646395906\n",
      "hybridGAT_5hp_hybridemb_NOOPT_SEED:\n",
      "    str: 8920.0+/-4782.4 -- p=0.49159481257597837\n",
      "hybridGAT_5hp_localemb_NOOPT_SEED:\n",
      "    str: 10880.0+/-4379.887414078129 -- p=0.019358189073658078\n",
      "hybridGCN_5hp_globalemb_NOOPT_SEED:\n",
      "    str: 10400.0+/-1606.721880102465 -- p=0.006554134268508776\n",
      "hybridGCN_5hp_hybridemb_NOOPT_SEED:\n",
      "    str: 8485.714285714286+/-4349.293275924262 -- p=0.6537682229947939\n",
      "hybridGCN_5hp_localemb_NOOPT_SEED:\n",
      "    str: 9840.0+/-4264.700580345589 -- p=0.14488381930847777\n",
      "hybridGT_5hp_globalemb_NOOPT_SEED:\n",
      "    str: 11240.0+/-5140.433973897535 -- p=0.016514593802000967\n",
      "hybridGT_5hp_hybridemb_NOOPT_SEED:\n",
      "    str: 9140.0+/-7240.973238453516 -- p=0.4290990014974626\n",
      "hybridGT_5hp_localemb_NOOPT_SEED:\n",
      "    str: 10160.0+/-4140.381122553817 -- p=0.07668874427934405\n",
      "\n",
      "last reward stats:\n",
      "baseline_SEED:\n",
      "    str: 43.18+/-14.105955372111453 -- p=0.5\n",
      "hybridGAT_5hp_globalemb_NOOPT_SEED:\n",
      "    str: 48.96+/-17.71176424414011 -- p=0.07577567199383353\n",
      "hybridGAT_5hp_hybridemb_NOOPT_SEED:\n",
      "    str: 45.05+/-15.078566748865754 -- p=0.3004517651507129\n",
      "hybridGAT_5hp_localemb_NOOPT_SEED:\n",
      "    str: 49.11+/-16.703627816734905 -- p=0.06431700435868026\n",
      "hybridGCN_5hp_globalemb_NOOPT_SEED:\n",
      "    str: 44.65+/-14.999379427162978 -- p=0.33981253398898187\n",
      "hybridGCN_5hp_hybridemb_NOOPT_SEED:\n",
      "    str: 41.266666666666666+/-6.705823008566676 -- p=0.7437651068048716\n",
      "hybridGCN_5hp_localemb_NOOPT_SEED:\n",
      "    str: 49.0+/-14.007899371426108 -- p=0.051156384658909086\n",
      "hybridGT_5hp_globalemb_NOOPT_SEED:\n",
      "    str: 43.43+/-9.17064290876054 -- p=0.4657496038980199\n",
      "hybridGT_5hp_hybridemb_NOOPT_SEED:\n",
      "    str: 44.46+/-14.891150789646849 -- p=0.3589792591611501\n",
      "hybridGT_5hp_localemb_NOOPT_SEED:\n",
      "    str: 46.25+/-13.648202138010706 -- p=0.18495346050897132\n",
      "\n"
     ]
    }
   ],
   "source": [
    "def print_stat(stats, name=\"\"):\n",
    "    assert name != \"\"\n",
    "    print(name+\" stats:\")\n",
    "    pretty_print(stats)\n",
    "    print()\n",
    "\n",
    "print_stat(max_reward_stats, \"max reward\")\n",
    "print_stat(first_ep_to_30_stats, \"first ep to 30\")\n",
    "print_stat(last_reward_stats, \"last reward\")\n"
   ]
  },
  {
   "cell_type": "code",
   "execution_count": null,
   "metadata": {},
   "outputs": [],
   "source": []
  }
 ],
 "metadata": {
  "kernelspec": {
   "display_name": "Python 3.9.13 ('ict')",
   "language": "python",
   "name": "python3"
  },
  "language_info": {
   "codemirror_mode": {
    "name": "ipython",
    "version": 3
   },
   "file_extension": ".py",
   "mimetype": "text/x-python",
   "name": "python",
   "nbconvert_exporter": "python",
   "pygments_lexer": "ipython3",
   "version": "3.9.13"
  },
  "orig_nbformat": 4,
  "vscode": {
   "interpreter": {
    "hash": "55c685f8cf5c890b69147c020cec2e2dc7dfd76edeb06885af029168509bee56"
   }
  }
 },
 "nbformat": 4,
 "nbformat_minor": 2
}
